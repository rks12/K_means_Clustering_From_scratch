{
  "nbformat": 4,
  "nbformat_minor": 0,
  "metadata": {
    "colab": {
      "name": "K-meansClustering.ipynb",
      "provenance": [],
      "collapsed_sections": []
    },
    "kernelspec": {
      "name": "python3",
      "display_name": "Python 3"
    },
    "language_info": {
      "name": "python"
    }
  },
  "cells": [
    {
      "cell_type": "code",
      "metadata": {
        "id": "FTBaaUa3Z6Va"
      },
      "source": [
        "import numpy as np\n",
        "import matplotlib.pyplot as plt\n",
        "from sklearn.datasets import make_blobs\n",
        "np.random.seed(42)"
      ],
      "execution_count": 118,
      "outputs": []
    },
    {
      "cell_type": "code",
      "metadata": {
        "id": "VCmOI7bNbQRD"
      },
      "source": [
        "def euclid_dis(x1,x2):\n",
        "    return np.sqrt(np.sum((x1-x2)**2))"
      ],
      "execution_count": 119,
      "outputs": []
    },
    {
      "cell_type": "code",
      "metadata": {
        "id": "KESjpJfcbkGY"
      },
      "source": [
        "class kmeans():\n",
        "    def __init__(self,k=5,maxiter=100,plotsteps=False):\n",
        "        self.k=k\n",
        "        self.maxiter=maxiter\n",
        "        self.plotsteps=plotsteps\n",
        "        self.clusters=[[] for _ in range(self.k)]   # list of list of K clusters\n",
        "        self.centroids=[]\n",
        "\n",
        "        print(self.centroids)\n",
        "    def predict(self,x):\n",
        "        self.x=x\n",
        "        self.n_samples,self.n_features=500,2\n",
        "        # initializde centroids\n",
        "        random_idx=np.random.choice(self.n_samples,self.k,replace=False)\n",
        "        self.centroids=[self.x[i] for i in random_idx]\n",
        "\n",
        "        #optimization\n",
        "        for _ in range(self.maxiter):\n",
        "            #update clusters\n",
        "            self.clusters=self.createclusters(self.centroids) \n",
        "        \n",
        "            \n",
        "         # update centroids\n",
        "            oldcentroids=self.centroids\n",
        "           \n",
        "            \n",
        "            if self._is_converged(oldcentroids,self.centroids):\n",
        "                break\n",
        "            # check if converged\n",
        "        print(self.clusters)\n",
        "   \n",
        "            \n",
        "# return cluster labels     dfdfdf \n",
        "        return self.getclusterlabels(self.clusters)\n",
        "\n",
        "    def getclusterlabels(self,clusters):\n",
        "        labels=np.empty(self.n_samples)\n",
        "        for clusteridx,cluster in enumerate(clusters):\n",
        "            for sampleidx in cluster:\n",
        "                labels[sampleidx]=clusteridx\n",
        "        return labels\n",
        "\n",
        "\n",
        "    def createclusters(self,centroids):\n",
        "        clusters=[[] for _ in range(self.k)]\n",
        "        for idx, sample in enumerate(self.x):\n",
        "            centroid_idx=self.getclosestcentroid(sample,centroids)\n",
        "            clusters[centroid_idx].append(idx)  #save indexes\n",
        "        return clusters\n",
        "    def getclosestcentroid(self,sample,centroids):\n",
        "        dis=[euclid_dis(sample,point) for point in centroids]\n",
        "        closest_idx= np.argmin(dis)\n",
        "        return closest_idx\n",
        "\n",
        "    def get_centroids(self,clusters):\n",
        "        centroids=np.zeros((self.k,self.n_features))  #features??                \n",
        "        for clusteridx,cl in enumerate(clusters):\n",
        "            clmean= np.mean(self.x[cl],axis=0)\n",
        "            centroids[clusteridx]=clmean        \n",
        "        return centroids\n",
        "    def _is_converged(self,oldcentroids,centroids):\n",
        "        dis= [euclid_dis(oldcentroids[i],centroids[i]) for i in range(self.k)]\n",
        "        return sum(dis)==0\n",
        "\n",
        "    def plot(self):\n",
        "        fig, ax=plt.subplots(figsize=(12,8))\n",
        "        for i,index in enumerate(self.clusters):\n",
        "            point=self.x[index].T\n",
        "            ax.scatter(*point)\n",
        "        for point in self.centroids:\n",
        "            ax.scatter(*point,marker=\"x\",color=\"black\",linewidth=2)\n",
        "        plt.show()\n",
        "\n",
        "\n",
        "\n",
        "\n",
        "        \n",
        "       "
      ],
      "execution_count": 120,
      "outputs": []
    },
    {
      "cell_type": "code",
      "metadata": {
        "colab": {
          "base_uri": "https://localhost:8080/"
        },
        "id": "Cv3Zv95FADl8",
        "outputId": "392a454a-fb2f-442d-942a-2b9bc28c7f0b"
      },
      "source": [
        "x,y=make_blobs(centers=4,n_samples=500,n_features=2,shuffle=True,random_state=42)\n",
        "print(x.shape)"
      ],
      "execution_count": 121,
      "outputs": [
        {
          "output_type": "stream",
          "text": [
            "(500, 2)\n"
          ],
          "name": "stdout"
        }
      ]
    },
    {
      "cell_type": "code",
      "metadata": {
        "colab": {
          "base_uri": "https://localhost:8080/"
        },
        "id": "Cr53bmyp1lo7",
        "outputId": "40f674f6-df52-469d-bd68-3d27f286dfd1"
      },
      "source": [
        "clusters=len(np.unique(y))\n",
        "\n",
        "k=kmeans(k=clusters,maxiter=150,plotsteps=False)"
      ],
      "execution_count": 122,
      "outputs": [
        {
          "output_type": "stream",
          "text": [
            "[]\n"
          ],
          "name": "stdout"
        }
      ]
    },
    {
      "cell_type": "code",
      "metadata": {
        "colab": {
          "base_uri": "https://localhost:8080/",
          "height": 520
        },
        "id": "ZLSwBjLN2eLp",
        "outputId": "57e4fd57-7e09-4c0e-ff61-3ea76a03ba1c"
      },
      "source": [
        "ypred=k.predict(x)\n",
        "\n",
        "k.plot()"
      ],
      "execution_count": 128,
      "outputs": [
        {
          "output_type": "stream",
          "text": [
            "[[3, 11, 13, 16, 19, 21, 29, 31, 32, 33, 42, 43, 44, 51, 55, 56, 61, 74, 76, 79, 83, 89, 96, 98, 105, 106, 108, 120, 147, 148, 149, 154, 156, 165, 171, 172, 175, 176, 180, 182, 183, 186, 188, 194, 196, 197, 200, 201, 213, 214, 216, 218, 221, 223, 225, 226, 232, 236, 242, 247, 248, 250, 251, 252, 253, 257, 260, 261, 263, 267, 270, 271, 274, 275, 276, 280, 283, 285, 291, 292, 304, 332, 336, 337, 342, 343, 345, 347, 357, 359, 361, 370, 382, 386, 392, 393, 397, 398, 399, 403, 411, 414, 416, 417, 419, 421, 425, 428, 438, 439, 444, 448, 452, 458, 464, 466, 469, 472, 473, 476, 481, 484, 491, 494, 496], [1, 4, 5, 7, 9, 14, 25, 26, 30, 34, 35, 40, 48, 50, 53, 58, 62, 65, 66, 69, 71, 72, 77, 80, 82, 91, 93, 110, 115, 118, 119, 122, 127, 128, 133, 140, 144, 150, 151, 158, 159, 164, 167, 170, 177, 178, 179, 189, 190, 193, 195, 199, 202, 206, 211, 215, 227, 228, 230, 233, 235, 237, 241, 249, 258, 264, 265, 269, 279, 284, 289, 290, 298, 300, 306, 307, 310, 315, 326, 344, 346, 349, 350, 352, 355, 358, 362, 363, 366, 371, 373, 380, 383, 385, 387, 389, 394, 395, 402, 406, 408, 409, 410, 413, 423, 426, 431, 432, 433, 435, 445, 446, 447, 453, 454, 455, 457, 462, 468, 477, 479, 485, 493, 497, 498], [2, 8, 10, 12, 15, 20, 22, 36, 37, 41, 45, 46, 47, 54, 64, 68, 70, 78, 81, 88, 92, 94, 97, 100, 101, 102, 116, 121, 123, 125, 126, 131, 132, 134, 138, 139, 142, 143, 152, 153, 162, 163, 166, 187, 204, 207, 208, 219, 220, 224, 229, 231, 238, 239, 240, 243, 246, 254, 255, 259, 266, 268, 272, 277, 281, 282, 286, 288, 293, 295, 297, 299, 302, 303, 305, 308, 309, 312, 313, 314, 317, 318, 319, 321, 322, 334, 339, 340, 341, 348, 351, 360, 365, 367, 368, 372, 375, 377, 391, 396, 400, 404, 405, 412, 415, 418, 420, 424, 429, 430, 436, 441, 443, 449, 450, 456, 459, 461, 463, 465, 467, 478, 480, 488, 499], [0, 6, 17, 18, 23, 24, 27, 28, 38, 39, 49, 52, 57, 59, 60, 63, 67, 73, 75, 84, 85, 86, 87, 90, 95, 99, 103, 104, 107, 109, 111, 112, 113, 114, 117, 124, 129, 130, 135, 136, 137, 141, 145, 146, 155, 157, 160, 161, 168, 169, 173, 174, 181, 184, 185, 191, 192, 198, 203, 205, 209, 210, 212, 217, 222, 234, 244, 245, 256, 262, 273, 278, 287, 294, 296, 301, 311, 316, 320, 323, 324, 325, 327, 328, 329, 330, 331, 333, 335, 338, 353, 354, 356, 364, 369, 374, 376, 378, 379, 381, 384, 388, 390, 401, 407, 422, 427, 434, 437, 440, 442, 451, 460, 470, 471, 474, 475, 482, 483, 486, 487, 489, 490, 492, 495]]\n"
          ],
          "name": "stdout"
        },
        {
          "output_type": "display_data",
          "data": {
            "image/png": "[encoded data removed]",
            "text/plain": [
              "<Figure size 864x576 with 1 Axes>"
            ]
          },
          "metadata": {
            "tags": [],
            "needs_background": "light"
          }
        }
      ]
    }
  ]
}